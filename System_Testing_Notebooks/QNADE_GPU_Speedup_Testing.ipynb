{
  "nbformat": 4,
  "nbformat_minor": 0,
  "metadata": {
    "colab": {
      "name": "QNADE_GPU_Speedup_Testing.ipynb",
      "provenance": [],
      "collapsed_sections": []
    },
    "kernelspec": {
      "name": "python3",
      "display_name": "Python 3"
    },
    "language_info": {
      "name": "python"
    },
    "accelerator": "GPU"
  },
  "cells": [
    {
      "cell_type": "code",
      "metadata": {
        "id": "BjA1kZeGbZ7e"
      },
      "source": [
        "\"\"\"\n",
        "Code to test GPU speedup factor using Google Colab GPU.\n",
        "\n",
        "To switch between Google Colab GPU and CPU:\n",
        "Runtin -> Change Runtime Type -> GPU/None -> Save\n",
        "\n",
        "NOTE - import, class definition, and train method cells must be \n",
        "re-run every time the runtime is changed. Sometimes, autograd_hacks \n",
        "file must be re-uploaded as well. \n",
        "\"\"\""
      ],
      "execution_count": null,
      "outputs": []
    },
    {
      "cell_type": "code",
      "metadata": {
        "id": "ufgs0po8P1Vu"
      },
      "source": [
        "\"\"\"IMPORTS\"\"\"\n",
        "import math\n",
        "import time\n",
        "import torch\n",
        "import autograd_hacks\n",
        "import torch.nn as nn\n",
        "import torch.nn.functional as F\n",
        "import numpy as np\n",
        "import matplotlib.pyplot as plt"
      ],
      "execution_count": 8,
      "outputs": []
    },
    {
      "cell_type": "code",
      "metadata": {
        "id": "JzvG9s62QJPm"
      },
      "source": [
        "\"\"\"\n",
        "Created Jan 28 2021\n",
        "\n",
        "@authors: Alex Lidiak, Caleb Sanders\n",
        "This model takes as input a FFNN (N inputs, 2 outputs) and converts it into a \n",
        "QNADE model. \n",
        "\n",
        "The QNADE class performs the autoregressive sample generation, conditional \n",
        "wavefunction calculation, and gradient accumulation needed to optimize a \n",
        "FFNN to produce the ground state energy of an arbitrary many-body system.  \n",
        "\"\"\"\n",
        "\n",
        "def calculate_epsilons(model, s, psi_omega, B, J):\n",
        "        \"\"\"\n",
        "        Calculates the E_loc(s) for all sampled states.\n",
        "        epsilon(s) = sum(s_i * s_i+1) + B/psi_s * sum(psi_s_prime)\n",
        "\n",
        "        Args: \n",
        "            model: QNADE model \n",
        "            s: sampled states matrix\n",
        "            psi_omega: np list of wavefunction coefficients    \n",
        "            B: int, sigma_x activation\n",
        "            J: int, sigma_z activation \n",
        "\n",
        "        Returns: \n",
        "            epsilon: double, epsilon contribution for the given state \n",
        "        \"\"\"\n",
        "        device = torch.device('cuda' if torch.cuda.is_available() else 'cpu')\n",
        "\n",
        "        N = len(s[0])\n",
        "        \n",
        "        z_term = torch.zeros([len(s)]).to(device)\n",
        "\n",
        "        # sum of the wavefunction coefficients resulting from sigma_x acting on each qubit (per sample)\n",
        "        psi_s_prime_sum = torch.zeros([len(s)]).to(device)\n",
        "\n",
        "        for i in range(N):\n",
        "            \n",
        "            if i == N-1:\n",
        "                z_term += s[:,0]*s[:,i]\n",
        "            else:\n",
        "                z_term += s[:,i]*s[:,i+1]\n",
        "\n",
        "            # calculate the sum of psi_s_prime for the sigma_x term\n",
        "            s_prime = s.clone()\n",
        "            s_prime[:,i] = -1*s_prime[:,i]\n",
        "            psi_s_prime,_,_ = model(x=s_prime, requires_grad=False) \n",
        "            psi_s_prime_sum += psi_s_prime\n",
        "        \n",
        "        x_term = psi_s_prime_sum/psi_omega\n",
        "\n",
        "        epsilons = -(J*z_term + B*x_term)\n",
        "        \n",
        "        return epsilons\n",
        "\n",
        "class QNADE(nn.Module): # takes a FFNN model as input\n",
        "            \n",
        "    def __init__(self, model): \n",
        "        super(QNADE, self).__init__()\n",
        "        \n",
        "        self.model = model\n",
        "        self.D = self.model[0].in_features # input layer size\n",
        "        self.M = self.model[-2].out_features # output layer size\n",
        "        self.evals = [0,1]\n",
        "            \n",
        "    def forward(self, N_samples=None, x=None, requires_grad=True):\n",
        "\n",
        "        device = torch.device('cuda' if torch.cuda.is_available() else 'cpu')\n",
        "\n",
        "        if N_samples is None and x is None: \n",
        "            raise ValueError('Must enter samples or the number of samples to' \\\n",
        "                             ' be generated')\n",
        "            \n",
        "        # if not sampling, just calculating wavefunction\n",
        "        if N_samples is None and x is not None: \n",
        "            N_samples, need_samples = x.shape[0], False\n",
        "\n",
        "        # if sampling and calculating wavefunction\n",
        "        if N_samples is not None and x is None: \n",
        "            need_samples = True\n",
        "            x = torch.zeros([N_samples,self.D],dtype=torch.float).to(device)\n",
        "            \n",
        "        # the full wavefunction is a product of the conditionals\n",
        "        WAV = torch.ones([N_samples]).to(device) \n",
        "        order = np.arange(0,self.D) # sequential autoregressive ordering \n",
        "        \n",
        "        # for gradient tracking \n",
        "        params = list(self.parameters()) \n",
        "        grads_per_param = [] \n",
        "        \n",
        "        for d in range(self.D):\n",
        "                \n",
        "            # mask enforces the autoregressive property\n",
        "            mask=torch.zeros_like(x)\n",
        "            mask[:,order[0:(d)]] = 1 \n",
        "\n",
        "            # add autograd hooks for per-sample gradient calculation \n",
        "            if not hasattr(self.model,'autograd_hacks_hooks'):             \n",
        "              autograd_hacks.add_hooks(self.model)\n",
        "            \n",
        "            # L2 normalization of masked output\n",
        "            out = F.normalize(self.model(mask*x), 2)\n",
        "            \n",
        "            # 'psi_pos' is positive bits, 'psi_neg' is negative bits \n",
        "            psi_pos = out[:,0].squeeze()\n",
        "            psi_neg = out[:,1].squeeze()\n",
        "\n",
        "            if need_samples == True:\n",
        "                \n",
        "              # sampling routine according to psi**2:\n",
        "              # convert bit values from 0 to -1\n",
        "              m = torch.distributions.Bernoulli(psi_pos**2).sample()\n",
        "              m = torch.where(m == 0, -1, 1) \n",
        "              \n",
        "              # update sample tensor\n",
        "              x[:,d] = m\n",
        "\n",
        "              # Accumulate PSI based on which state (s) was sampled\n",
        "              selected_wavs = torch.where(x[:,d] > 0, psi_pos, psi_neg) \n",
        "              WAV = WAV*selected_wavs\n",
        "\n",
        "            else: \n",
        "\n",
        "              # if not sampling, m is a list of bits in column d \n",
        "              m = x[:,d]\n",
        "\n",
        "              # Accumulate PPSI based on which state (s) was sampled\n",
        "              selected_wavs = torch.where(m > 0, psi_pos, psi_neg) \n",
        "              WAV = WAV*selected_wavs\n",
        "\n",
        "            if requires_grad == True:\n",
        "\n",
        "              # eval_grads stores backpropagation values for out1 and out2.\n",
        "              # eval_grads[0] are the out1 grads for all samples (per param), \n",
        "              # eval_grads[1] are the out2 grads for all samples (per param). \n",
        "              eval_grads = [ [[]]*len(params) for outputs in range(len(self.evals)) ]\n",
        "\n",
        "              # Store the per-output grads in eval_grads\n",
        "              for output in range(len(self.evals)):\n",
        "\n",
        "                # backpropagate the current output (out1 or out2)\n",
        "                out[:,output].mean(0).backward(retain_graph=True)\n",
        "\n",
        "                # compute gradients for all samples \n",
        "                autograd_hacks.compute_grad1(self.model)\n",
        "                autograd_hacks.clear_backprops(self.model)\n",
        "\n",
        "                # store the calculated gradients for all samples \n",
        "                for param in range(len(params)):\n",
        "                  eval_grads[output][param] = params[param].grad1\n",
        "\n",
        "              # allocate space for gradient accumulation \n",
        "              if d == 0:\n",
        "                for param in range(len(params)):\n",
        "                  grads_per_param.append(torch.zeros_like(eval_grads[0][param]))\n",
        "              \n",
        "              # accumulate gradients per parameter based on sampled bits\n",
        "              for param in range(len(params)):\n",
        "\n",
        "                # reshape m and wavs so they can be accumulated/divided properly \n",
        "                reshaped_m = m.reshape(m.shape + (1,)*(grads_per_param[param].ndim-1))\n",
        "                reshaped_wavs = selected_wavs.reshape(selected_wavs.shape + (1,)*(grads_per_param[param].ndim-1))\n",
        "\n",
        "                # select the proper gradient to accumulate based on m \n",
        "                grads_per_param[param][:] += torch.where(reshaped_m[:] > 0, \n",
        "                                                         eval_grads[0][param][:]/reshaped_wavs[:], \n",
        "                                                         eval_grads[1][param][:]/reshaped_wavs[:])\n",
        "\n",
        "        return WAV.detach(), x.detach(), grads_per_param"
      ],
      "execution_count": 9,
      "outputs": []
    },
    {
      "cell_type": "code",
      "metadata": {
        "id": "ostAlY5rQNNF"
      },
      "source": [
        "\"\"\"OPTIMIZATION FUNCTION\"\"\"\n",
        "\n",
        "def train(num_qubits, num_samples, g):\n",
        "\n",
        "  # number of qubits\n",
        "  L = num_qubits\n",
        "  H = 2*L\n",
        "\n",
        "  J = 1 #sigma_z activation\n",
        "  B = g #sigma_x activation\n",
        "\n",
        "  # initialize network and model, put network on device \n",
        "  network = nn.Sequential(nn.Linear(L,H), nn.Tanh(), nn.Linear(H,2), nn.Tanh())\n",
        "  network.to(device) \n",
        "  model = QNADE(network)\n",
        "  params = list(model.parameters())\n",
        "\n",
        "  # Training hyperparameters \n",
        "  iters = 100\n",
        "  batch_size = num_samples\n",
        "  lr = 0.001\n",
        "\n",
        "  # initialize optimizer \n",
        "  optimizer = torch.optim.Adam(params=network.parameters(), lr=lr)\n",
        "  optimizer.zero_grad()\n",
        "\n",
        "  # training loop \n",
        "  start = time.time()\n",
        "  energies = []\n",
        "  for iter in range(iters):\n",
        "\n",
        "    # generate data \n",
        "    psi_omega, samples, grads_per_param = model(N_samples=batch_size)\n",
        "\n",
        "    # calculate local energies \n",
        "    epsilons = calculate_epsilons(model, samples, psi_omega, B, J).to(device)\n",
        "\n",
        "    # E is an average of local energies\n",
        "    E = epsilons.mean()\n",
        "    energies.append(E)\n",
        "    epsilons -= E \n",
        "    \n",
        "    # calculate O_k for a given parameter and number of samples \n",
        "    for param in range(len(params)):\n",
        "\n",
        "      # define O_k for a set of parameters \n",
        "      O_k = grads_per_param[param].detach()\n",
        "\n",
        "      # weight O_k according to epsilons \n",
        "      O_k *= epsilons.reshape(epsilons.shape + (1,)*(O_k.ndim-1))\n",
        "\n",
        "      # e_grad is an average of all O_k_s \n",
        "      e_grad = torch.mean(O_k, 0, keepdim=True).squeeze()\n",
        "\n",
        "      # update network parameter matrix with energy gradient  \n",
        "      with torch.no_grad():\n",
        "        params[param].grad.copy_(e_grad)\n",
        "\n",
        "    #optimize network based on e_grad \n",
        "    optimizer.step() \n",
        "\n",
        "  end = time.time()\n",
        "  training_time = end - start\n",
        "\n",
        "  final_energy = energies[len(energies)-1]\n",
        "\n",
        "  return training_time\n"
      ],
      "execution_count": 10,
      "outputs": []
    },
    {
      "cell_type": "code",
      "metadata": {
        "id": "ew-sykzScNvo"
      },
      "source": [
        "\"\"\"CONSTANTS FOR TESTING VARIABLE NUMBER OF QUBITS\"\"\"\n",
        "\n",
        "device = torch.device('cuda' if torch.cuda.is_available() else 'cpu')\n",
        "spins = [2, 5, 10, 15] #adjust this to test larger sample size range \n",
        "num_samples = 2000"
      ],
      "execution_count": 3,
      "outputs": []
    },
    {
      "cell_type": "code",
      "metadata": {
        "colab": {
          "base_uri": "https://localhost:8080/"
        },
        "id": "8g8F85PTRVE6",
        "outputId": "5dffaa00-312c-4f29-e3a0-1508677730ff"
      },
      "source": [
        "\"\"\"\n",
        "GPU TRAINING - constant sample size, variable number of qubits \n",
        "Must have runtime hardware set to GPU when running this cell. \n",
        "\"\"\"\n",
        "\n",
        "training_times_GPU_qubits = []\n",
        "\n",
        "for spin in spins:\n",
        "  print(\"Number of qubits: \" + str(spin))\n",
        "  training_times_GPU_qubits.append(train(spin, num_samples, 0.5))\n",
        "\n",
        "print(\"Training times for constant sample size, variable system size:\")\n",
        "print(training_times_GPU_qubits)"
      ],
      "execution_count": 7,
      "outputs": [
        {
          "output_type": "stream",
          "text": [
            "Number of qubits: 2\n"
          ],
          "name": "stdout"
        },
        {
          "output_type": "stream",
          "text": [
            "/usr/local/lib/python3.7/dist-packages/torch/nn/modules/module.py:795: UserWarning: Using a non-full backward hook when the forward contains multiple autograd Nodes is deprecated and will be removed in future versions. This hook will be missing some grad_input. Please use register_full_backward_hook to get the documented behavior.\n",
            "  warnings.warn(\"Using a non-full backward hook when the forward contains multiple autograd Nodes \"\n"
          ],
          "name": "stderr"
        },
        {
          "output_type": "stream",
          "text": [
            "Number of qubits: 5\n",
            "Number of qubits: 10\n",
            "Number of qubits: 15\n",
            "Training times for constant sample size, variable system size:\n",
            "[0.9344315528869629, 2.846299409866333, 8.077572107315063, 15.557657480239868]\n"
          ],
          "name": "stdout"
        }
      ]
    },
    {
      "cell_type": "code",
      "metadata": {
        "colab": {
          "base_uri": "https://localhost:8080/"
        },
        "id": "jtECncu7UnWx",
        "outputId": "70055cc6-5784-418f-f15d-d2a6f8b5ebbd"
      },
      "source": [
        "\"\"\"\n",
        "CPU TRAINING - constant sample size, variable number of qubits \n",
        "Must have runtime hardware set to CPU when running this cell.\n",
        "\"\"\"\n",
        "\n",
        "training_times_CPU_qubits = []\n",
        "\n",
        "for spin in spins:\n",
        "  print(\"Number of qubits: \" + str(spin))\n",
        "  training_times_CPU_qubits.append(train(spin, num_samples, 0.5))\n",
        "\n",
        "print(\"Training times for constant sample size, variable system size:\")\n",
        "print(training_times_CPU_qubits)"
      ],
      "execution_count": 9,
      "outputs": [
        {
          "output_type": "stream",
          "text": [
            "Number of qubits: 2\n"
          ],
          "name": "stdout"
        },
        {
          "output_type": "stream",
          "text": [
            "/usr/local/lib/python3.7/dist-packages/torch/nn/modules/module.py:795: UserWarning: Using a non-full backward hook when the forward contains multiple autograd Nodes is deprecated and will be removed in future versions. This hook will be missing some grad_input. Please use register_full_backward_hook to get the documented behavior.\n",
            "  warnings.warn(\"Using a non-full backward hook when the forward contains multiple autograd Nodes \"\n"
          ],
          "name": "stderr"
        },
        {
          "output_type": "stream",
          "text": [
            "Number of qubits: 5\n",
            "Number of qubits: 10\n",
            "Number of qubits: 15\n",
            "Training times for constant sample size, variable system size:\n",
            "[1.9646918773651123, 7.070133686065674, 26.55202317237854, 63.61357593536377]\n"
          ],
          "name": "stdout"
        }
      ]
    },
    {
      "cell_type": "code",
      "metadata": {
        "colab": {
          "base_uri": "https://localhost:8080/",
          "height": 295
        },
        "id": "AveYTwjXYchr",
        "outputId": "697f6443-bf66-404b-8562-424ff355be30"
      },
      "source": [
        "\"\"\"\n",
        "GPU VS CPU TRAINING - constant sample size, variable system size\n",
        "PLOT OF SPEEDUP FACTOR, CPU/GPU\n",
        "\"\"\"\n",
        "\n",
        "# GPU data coppied from data returned from GPU cell \n",
        "GPU_data_qubits = np.array([0.9344315528869629, 2.846299409866333, 8.077572107315063, 15.557657480239868])\n",
        "\n",
        "# CPU data coppied from data returned from CPU cell \n",
        "CPU_data_qubits = np.array([1.9646918773651123, 7.070133686065674, 26.55202317237854, 63.61357593536377])\n",
        "speedup_factor_qubits = CPU_data_qubits/GPU_data_qubits\n",
        "\n",
        "plt.figure()\n",
        "plt.plot(spins, speedup_factor_qubits, '-o', color='red')\n",
        "plt.xlabel(\"Number of qubits\")\n",
        "plt.ylabel(\"Speedup Factor (CPU/GPU)\")\n",
        "plt.title(\"Training Speedup, 2000 Samples\")\n",
        "plt.grid()\n",
        "plt.savefig(\"speedup_factor_qubits.png\")\n",
        "plt.show()"
      ],
      "execution_count": 10,
      "outputs": [
        {
          "output_type": "display_data",
          "data": {
            "image/png": "[encoded data removed]",
            "text/plain": [
              "<Figure size 432x288 with 1 Axes>"
            ]
          },
          "metadata": {
            "tags": [],
            "needs_background": "light"
          }
        }
      ]
    },
    {
      "cell_type": "code",
      "metadata": {
        "id": "OdEGDvp-d9Bo"
      },
      "source": [
        "\"\"\"CONSTANTS FOR TESTING VARIABLE SAMPLE SIZE\"\"\"\n",
        "\n",
        "device = torch.device('cuda' if torch.cuda.is_available() else 'cpu')\n",
        "\n",
        "qubits = 5\n",
        "num_samples = [1000, 5000, 10000, 15000]"
      ],
      "execution_count": 11,
      "outputs": []
    },
    {
      "cell_type": "code",
      "metadata": {
        "colab": {
          "base_uri": "https://localhost:8080/"
        },
        "id": "VaZwbSMiSWUy",
        "outputId": "4529442c-9bf5-4be5-b411-7bfb88e989c2"
      },
      "source": [
        "\"\"\"\n",
        "GPU TRAINING - constant number of qubits, variable sample size \n",
        "Must have runtime hardware set to GPU when running this cell.\n",
        "\"\"\"\n",
        "\n",
        "training_times_GPU = []\n",
        "\n",
        "for sample_size in num_samples:\n",
        "  print(\"Sample size: \" + str(sample_size))\n",
        "  training_times_GPU.append(train(qubits, sample_size, 0.5))\n",
        "\n",
        "print(\"Training times for constant system size, variable sample size:\")\n",
        "print(training_times_GPU)"
      ],
      "execution_count": 12,
      "outputs": [
        {
          "output_type": "stream",
          "text": [
            "Sample size: 1000\n"
          ],
          "name": "stdout"
        },
        {
          "output_type": "stream",
          "text": [
            "/usr/local/lib/python3.7/dist-packages/torch/nn/modules/module.py:795: UserWarning: Using a non-full backward hook when the forward contains multiple autograd Nodes is deprecated and will be removed in future versions. This hook will be missing some grad_input. Please use register_full_backward_hook to get the documented behavior.\n",
            "  warnings.warn(\"Using a non-full backward hook when the forward contains multiple autograd Nodes \"\n"
          ],
          "name": "stderr"
        },
        {
          "output_type": "stream",
          "text": [
            "Sample size: 5000\n",
            "Sample size: 10000\n",
            "Sample size: 15000\n",
            "Training times for constant system size, variable sample size:\n",
            "[2.951446294784546, 2.863300323486328, 2.945936679840088, 2.9582855701446533]\n"
          ],
          "name": "stdout"
        }
      ]
    },
    {
      "cell_type": "code",
      "metadata": {
        "colab": {
          "base_uri": "https://localhost:8080/"
        },
        "id": "RVzuvAarV60G",
        "outputId": "c8200f28-d1be-4ccb-d692-6c2d70046197"
      },
      "source": [
        "\"\"\"\n",
        "CPU TRAINING - constant number of qubits, variable sample size.\n",
        "Must have runtime hardware set to CPU when running this cell. \n",
        "\"\"\"\n",
        "\n",
        "training_times_CPU = []\n",
        "\n",
        "for sample_size in num_samples:\n",
        "  print(\"Sample size: \" + str(sample_size))\n",
        "  training_times_CPU.append(train(qubits, sample_size, 0.5))\n",
        "\n",
        "print(\"Training times for constant system size, variable sample size:\")\n",
        "print(training_times_CPU)"
      ],
      "execution_count": 15,
      "outputs": [
        {
          "output_type": "stream",
          "text": [
            "Sample size: 1000\n"
          ],
          "name": "stdout"
        },
        {
          "output_type": "stream",
          "text": [
            "/usr/local/lib/python3.7/dist-packages/torch/nn/modules/module.py:795: UserWarning: Using a non-full backward hook when the forward contains multiple autograd Nodes is deprecated and will be removed in future versions. This hook will be missing some grad_input. Please use register_full_backward_hook to get the documented behavior.\n",
            "  warnings.warn(\"Using a non-full backward hook when the forward contains multiple autograd Nodes \"\n"
          ],
          "name": "stderr"
        },
        {
          "output_type": "stream",
          "text": [
            "Sample size: 5000\n",
            "Sample size: 10000\n",
            "Sample size: 15000\n",
            "Training times for constant system size, variable sample size:\n",
            "[4.710643291473389, 14.043808221817017, 25.882484674453735, 36.5569589138031]\n"
          ],
          "name": "stdout"
        }
      ]
    },
    {
      "cell_type": "code",
      "metadata": {
        "colab": {
          "base_uri": "https://localhost:8080/",
          "height": 295
        },
        "id": "a6b_jo2zZpxy",
        "outputId": "f23c2932-cc54-485a-a913-7210d15632c5"
      },
      "source": [
        "\"\"\"GPU VS CPU TRAINING - constant system size, variable sample size\"\"\"\n",
        "\n",
        "# data coppied from GPU/CPU cells \n",
        "GPU_data_samples = np.array([2.951446294784546, 2.863300323486328, 2.945936679840088, 2.9582855701446533])\n",
        "CPU_data_samples = np.array([4.710643291473389, 14.043808221817017, 25.882484674453735, 36.5569589138031])\n",
        "\n",
        "speedup_factor = CPU_data_samples/GPU_data_samples\n",
        "\n",
        "plt.figure()\n",
        "plt.plot(num_samples, speedup_factor, '-o', color='red')\n",
        "plt.xlabel(\"Sample Size\")\n",
        "plt.ylabel(\"Speedup Factor (CPU/GPU)\")\n",
        "plt.title(\"Training Speedup, 10 Qubits\")\n",
        "plt.grid()\n",
        "plt.savefig(\"speedup_factor_samples.png\")\n",
        "plt.show()\n"
      ],
      "execution_count": 13,
      "outputs": [
        {
          "output_type": "display_data",
          "data": {
            "image/png": "[encoded data removed]",
            "text/plain": [
              "<Figure size 432x288 with 1 Axes>"
            ]
          },
          "metadata": {
            "tags": [],
            "needs_background": "light"
          }
        }
      ]
    },
    {
      "cell_type": "code",
      "metadata": {
        "id": "KPHepl3Ea2Ot"
      },
      "source": [
        ""
      ],
      "execution_count": null,
      "outputs": []
    }
  ]
}